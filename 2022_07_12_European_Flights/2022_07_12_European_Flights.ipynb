{
 "cells": [
  {
   "cell_type": "markdown",
   "metadata": {
    "id": "LniyacYx-0S0"
   },
   "source": [
    "Tidy Tuesday 12 July 2022 - European Flights\n",
    "\n",
    "Tidy Tuesday repo for this week: https://github.com/rfordatascience/tidytuesday/tree/master/data/2022/2022-07-12\n",
    "\n",
    "Airport locations data source: https://github.com/mborsetti/airportsdata\n",
    "\n",
    "alt text: geographic scatter plot of European airport flights before and during COVID"
   ]
  },
  {
   "cell_type": "code",
   "execution_count": null,
   "metadata": {
    "id": "3r-5bT-3-zJv"
   },
   "outputs": [],
   "source": [
    "import pandas as pd\n",
    "import numpy as np\n",
    "import geopandas as gpd\n",
    "import matplotlib.pyplot as plt\n",
    "from tqdm import tqdm\n",
    "import imageio\n",
    "import os\n",
    "import shutil"
   ]
  },
  {
   "cell_type": "code",
   "execution_count": null,
   "metadata": {
    "colab": {
     "base_uri": "https://localhost:8080/",
     "height": 540
    },
    "id": "HLDATpKWIadX",
    "outputId": "7894f25a-0078-45d4-df34-73a049514b93"
   },
   "outputs": [],
   "source": [
    "flights = pd.read_csv(\"https://raw.githubusercontent.com/rfordatascience\"+\\\n",
    "                          \"/tidytuesday/master/data/2022/2022-07-12/flights.csv\")\n",
    "airports = pd.read_csv(\"https://raw.githubusercontent.com/mborsetti\"+\\\n",
    "                           \"/airportsdata/main/airportsdata/airports.csv\")\n",
    "airports[\"APT_ICAO\"] = airports[\"icao\"].copy()\n",
    "df = flights.merge(airports, on=[\"APT_ICAO\"])\n",
    "gdf = gpd.GeoDataFrame(df, geometry=gpd.points_from_xy(df[\"lon\"], df[\"lat\"]))\n",
    "gdf.head()"
   ]
  },
  {
   "cell_type": "code",
   "execution_count": null,
   "metadata": {
    "colab": {
     "base_uri": "https://localhost:8080/"
    },
    "id": "C4oXU2g1JXtA",
    "outputId": "8a70eae5-18b3-4126-8f26-bf52d212e4ab",
    "scrolled": false
   },
   "outputs": [],
   "source": [
    "if os.path.exists(\"frames\"):\n",
    "    shutil.rmtree(\"frames\") # delete old frames dir\n",
    "os.mkdir(\"frames\") # make new frames dir\n",
    "# [os.remove(f.path) for f in os.scandir(\".\") if f.name.endswith(\".png\")]\n",
    "\n",
    "world = gpd.read_file(gpd.datasets.get_path(\"naturalearth_lowres\"))\n",
    "europe = world[world.continent == \"Europe\"]\n",
    "\n",
    "\n",
    "dates = np.unique(gdf[\"FLT_DATE\"])[::7]\n",
    "filenames = list()\n",
    "for date in tqdm(dates):\n",
    "\n",
    "    temp = gdf[gdf[\"FLT_DATE\"]==date]\n",
    "\n",
    "    fig, ax = plt.subplots(figsize=[20,15])\n",
    "    plt.title(date.split(\"T\")[0], fontsize=30)\n",
    "    europe.plot(ax=ax,\n",
    "                color=\"lightgreen\", \n",
    "                edgecolor=\"black\",)\n",
    "    \n",
    "    temp.plot(ax=ax, \n",
    "#               column=\"FLT_TOT_1\",\n",
    "              color=\"indigo\",\n",
    "              markersize=temp[\"FLT_TOT_1\"],)\n",
    "\n",
    "    plt.xlim([-40,55])\n",
    "    plt.ylim([25,70])\n",
    "    plt.axis(\"off\")\n",
    "    \n",
    "#     cax = fig.add_axes([0.93, 0.25, 0.03, 0.5])\n",
    "#     sm = plt.cm.ScalarMappable(cmap=\"magma\", \n",
    "#                                norm=plt.Normalize(vmin=gdf[\"FLT_TOT_1\"].min(), \n",
    "#                                                   vmax=gdf[\"FLT_TOT_1\"].max()))\n",
    "#     sm._A = []\n",
    "#     plt.colorbar(sm, cax)\n",
    "    \n",
    "    filename = f\"{date.split('T')[0]}.png\"\n",
    "    plt.savefig(os.path.join(\"frames\",filename), \n",
    "                bbox_inches=\"tight\",\n",
    "                dpi=200)\n",
    "    filenames.append(filename)\n",
    "\n",
    "    fig.clf()\n",
    "    plt.close()\n",
    "    \n",
    "assert len(filenames) == len(dates) # validation"
   ]
  },
  {
   "cell_type": "code",
   "execution_count": null,
   "metadata": {
    "colab": {
     "base_uri": "https://localhost:8080/"
    },
    "id": "_Bh8dJtZbGKD",
    "outputId": "bb7b9052-5cd2-42e1-b2e0-db616b886191"
   },
   "outputs": [],
   "source": [
    "frames = np.array([imageio.imread(os.path.join(\"frames\",filename)) for filename in tqdm(filenames)])\n",
    "imageio.mimsave(\"european_flights.mp4\", frames, fps=10)\n",
    "imageio.mimsave(\"european_flights.gif\", frames, fps=10)"
   ]
  },
  {
   "cell_type": "code",
   "execution_count": null,
   "metadata": {},
   "outputs": [],
   "source": []
  }
 ],
 "metadata": {
  "colab": {
   "collapsed_sections": [],
   "name": "TT 2022-07-12 European Flights.ipynb",
   "provenance": []
  },
  "kernelspec": {
   "display_name": "Python 3 (ipykernel)",
   "language": "python",
   "name": "python3"
  },
  "language_info": {
   "codemirror_mode": {
    "name": "ipython",
    "version": 3
   },
   "file_extension": ".py",
   "mimetype": "text/x-python",
   "name": "python",
   "nbconvert_exporter": "python",
   "pygments_lexer": "ipython3",
   "version": "3.8.13"
  },
  "vscode": {
   "interpreter": {
    "hash": "cc273e64c6c48e9881aab795f8d0e622d86c0ebe91aa99d17d2821087e5340fb"
   }
  }
 },
 "nbformat": 4,
 "nbformat_minor": 1
}
